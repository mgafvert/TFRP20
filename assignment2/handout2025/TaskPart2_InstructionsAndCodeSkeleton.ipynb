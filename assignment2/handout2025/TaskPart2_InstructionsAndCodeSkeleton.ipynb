{
 "cells": [
  {
   "cell_type": "markdown",
   "metadata": {},
   "source": [
    "## Some comparisons of filtering and smoothing (can be with or without the viewer)\n",
    "\n",
    "### Hint for your task 2)\n",
    "#### You can implement your filtering / smoothing in the HMMFilter class in the file Filters, especially if you want to use the \"simulator\"/visualisation, but you can also just implement the methods here, if you want to ignore the visualisation entirely. Note however, that you must make use of the given models and the robot simulator in RobotSim!\n"
   ]
  },
  {
   "cell_type": "code",
   "execution_count": null,
   "metadata": {
    "scrolled": true
   },
   "outputs": [],
   "source": [
    "# In this cell, you can write your own \"main\" to run and evaluate your \n",
    "# implementation without using the visualisation (should be considerably faster!)\n",
    "\n",
    "from models import *\n",
    "from Filters import HMMFilter\n",
    "\n",
    "import numpy as np\n",
    "import matplotlib.pyplot as plt\n",
    "import random\n",
    "\n",
    "# ...  "
   ]
  }
 ],
 "metadata": {
  "kernelspec": {
   "display_name": "Python 3 (ipykernel)",
   "language": "python",
   "name": "python3"
  },
  "language_info": {
   "codemirror_mode": {
    "name": "ipython",
    "version": 3
   },
   "file_extension": ".py",
   "mimetype": "text/x-python",
   "name": "python",
   "nbconvert_exporter": "python",
   "pygments_lexer": "ipython3",
   "version": "3.12.7"
  }
 },
 "nbformat": 4,
 "nbformat_minor": 4
}
